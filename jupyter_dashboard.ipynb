{
 "cells": [
  {
   "cell_type": "markdown",
   "metadata": {
    "extensions": {
     "jupyter_dashboards": {
      "version": 1,
      "views": {
       "grid_default": {
        "col": 0,
        "height": 3,
        "hidden": false,
        "row": 0,
        "width": 12
       },
       "report_default": {
        "hidden": false
       }
      }
     }
    }
   },
   "source": [
    "## NBA Shooting Statistics and Styles\n",
    "By Ashley Radford\n"
   ]
  },
  {
   "cell_type": "code",
   "execution_count": 1,
   "metadata": {
    "extensions": {
     "jupyter_dashboards": {
      "version": 1,
      "views": {
       "grid_default": {
        "hidden": true
       },
       "report_default": {}
      }
     }
    }
   },
   "outputs": [
    {
     "data": {
      "application/javascript": [
       "// no autoscrolling with output\n",
       "IPython.OutputArea.prototype._should_scroll = function(lines) {\n",
       "    return false;\n",
       "}"
      ],
      "text/plain": [
       "<IPython.core.display.Javascript object>"
      ]
     },
     "metadata": {},
     "output_type": "display_data"
    }
   ],
   "source": [
    "%%javascript\n",
    "// no autoscrolling with output\n",
    "IPython.OutputArea.prototype._should_scroll = function(lines) {\n",
    "    return false;\n",
    "}"
   ]
  },
  {
   "cell_type": "code",
   "execution_count": 2,
   "metadata": {
    "extensions": {
     "jupyter_dashboards": {
      "version": 1,
      "views": {
       "grid_default": {
        "hidden": true
       },
       "report_default": {
        "hidden": true
       }
      }
     }
    }
   },
   "outputs": [],
   "source": [
    "# necessary importations\n",
    "import numpy as np\n",
    "import pandas as pd\n",
    "import matplotlib.pyplot as plt\n",
    "import pickle\n",
    "import math\n",
    "\n",
    "# plots graphs before full cell execution\n",
    "from ipywidgets.widgets.interaction import show_inline_matplotlib_plots \n",
    "from ipywidgets import Dropdown, Button, Layout, Output\n",
    "from IPython.display import clear_output\n",
    "\n",
    "import helper_basketball as h\n",
    "import sklearn.decomposition as skld # for non-negative matrix factorization\n",
    "import seaborn as sns\n",
    "\n",
    "from numpy import linalg as LA # to compute Frobenious norm\n",
    "from scipy.cluster.hierarchy import dendrogram, linkage # for clustering"
   ]
  },
  {
   "cell_type": "code",
   "execution_count": 3,
   "metadata": {
    "extensions": {
     "jupyter_dashboards": {
      "version": 1,
      "views": {
       "grid_default": {
        "hidden": true
       },
       "report_default": {}
      }
     }
    }
   },
   "outputs": [],
   "source": [
    "seasons = ['1946-47','1947-48','1948-49','1949-50','1950-51','1951-52','1952-53','1953-54','1954-55','1955-56','1956-57','1957-58','1958-59','1959-60','1960-61','1961-62','1962-63','1963-64','1964-65','1965-66','1966-67','1967-68','1968-69','1969-70','1970-71','1971-72','1972-73','1973-74','1974-75','1975-76','1976-77','1977-78','1978-79','1979-80','1980-81','1981-82','1982-83','1983-84','1984-85','1985-86','1986-87','1987-88','1988-89','1989-90','1990-91','1991-92','1992-93','1993-94','1994-95','1995-96','1996-97','1997-98','1998-99','1999-00','2000-01','2001-02','2002-03','2003-04','2004-05','2005-06','2006-07','2007-08','2008-09','2009-10','2010-11','2011-12','2012-13','2013-14','2014-15','2015-16','2016-17','2017-18']"
   ]
  },
  {
   "cell_type": "code",
   "execution_count": 4,
   "metadata": {
    "extensions": {
     "jupyter_dashboards": {
      "version": 1,
      "views": {
       "grid_default": {
        "col": 0,
        "height": 10,
        "hidden": true,
        "row": 8,
        "width": 12
       },
       "report_default": {
        "hidden": true
       }
      }
     }
    }
   },
   "outputs": [],
   "source": [
    "# function to choose shotchart params\n",
    "def shotchart_params(teamid='0', playerid='0', gameid=''):\n",
    "    chosen_params = {'PlayerID':playerid,\n",
    "                     'PlayerPosition':'',\n",
    "                     'Season':latest_season,\n",
    "                     'ContextMeasure':'FGA',\n",
    "                     'DateFrom':'',\n",
    "                     'DateTo':'',\n",
    "                     'GameID':gameid,\n",
    "                     'GameSegment':'',\n",
    "                     'LastNGames':'0',\n",
    "                     'LeagueID':'00',\n",
    "                     'Location':'',\n",
    "                     'Month':'0',\n",
    "                     'OpponentTeamID':'0',\n",
    "                     'Outcome':'',\n",
    "                     'Period':'0',\n",
    "                     'Position':'',\n",
    "                     'RookieYear':'',\n",
    "                     'SeasonSegment':'',\n",
    "                     'SeasonType':'Regular Season',\n",
    "                     'TeamID':teamid,\n",
    "                     'VsConference':'',\n",
    "                     'VsDivision':''}\n",
    "    return chosen_params"
   ]
  },
  {
   "cell_type": "code",
   "execution_count": 5,
   "metadata": {
    "extensions": {
     "jupyter_dashboards": {
      "version": 1,
      "views": {
       "grid_default": {
        "hidden": true
       },
       "report_default": {}
      }
     }
    }
   },
   "outputs": [],
   "source": [
    "# pulling team data function\n",
    "def get_data():\n",
    "    # getting teams data\n",
    "    teams_params = {'LeagueID':'00'}\n",
    "    teams = h.get_nba_data('commonTeamYears', teams_params)\n",
    "    \n",
    "    # getting player data\n",
    "    # can put whatever in season, not only current season\n",
    "    players_params = {'LeagueID':'00', 'Season': latest_season, 'IsOnlyCurrentSeason':'0'}\n",
    "    players = h.get_nba_data('commonallplayers', players_params)\n",
    "    \n",
    "    # getting shots data\n",
    "    shotdata = h.get_nba_data('shotchartdetail', shotchart_params())\n",
    "    return teams, players, shotdata"
   ]
  },
  {
   "cell_type": "code",
   "execution_count": 6,
   "metadata": {
    "extensions": {
     "jupyter_dashboards": {
      "version": 1,
      "views": {
       "grid_default": {
        "hidden": true
       },
       "report_default": {
        "hidden": true
       }
      }
     }
    }
   },
   "outputs": [],
   "source": [
    "def get_current(teams, players, shotdata):\n",
    "    # setting up series types\n",
    "    teams.ABBREVIATION = teams.ABBREVIATION.astype('category')\n",
    "    teams.TEAM_ID      = teams.TEAM_ID.astype('category')\n",
    "    teams.MIN_YEAR     = teams.MIN_YEAR.astype('int')\n",
    "    teams.MAX_YEAR     = teams.MAX_YEAR.astype('int')\n",
    "\n",
    "    # taking current teams\n",
    "    teams = teams[(teams.MIN_YEAR <= (current_year-1)) & (teams.MAX_YEAR >= current_year)]\n",
    "    # taking current and active players\n",
    "    players = players[players.TEAM_ID.isin(teams.TEAM_ID) & players.PERSON_ID.isin(shotdata.PLAYER_ID)]\n",
    "    # taking active players shotdata\n",
    "    shotdata = shotdata[shotdata.PLAYER_ID.isin(players.PERSON_ID)]\n",
    "    \n",
    "    return teams, players, shotdata"
   ]
  },
  {
   "cell_type": "code",
   "execution_count": 7,
   "metadata": {
    "extensions": {
     "jupyter_dashboards": {
      "version": 1,
      "views": {
       "grid_default": {
        "col": 0,
        "height": 7,
        "hidden": true,
        "row": 8,
        "width": 7
       },
       "report_default": {
        "hidden": true
       }
      }
     }
    }
   },
   "outputs": [],
   "source": [
    "def clean_teams(teams, players):\n",
    "    # creating TEAM_NAME column on teams by merging data from players\n",
    "    team_names = players[['TEAM_ABBREVIATION', 'TEAM_NAME']].copy().drop_duplicates()\n",
    "    teams = pd.merge(teams, team_names, left_on='ABBREVIATION', right_on='TEAM_ABBREVIATION')\n",
    "\n",
    "    # getting rid of TEAM_ABBREVIATION column\n",
    "    teams = teams.drop(['TEAM_ABBREVIATION'], axis=1) # only returns values, so needs to be reassigned\n",
    "    \n",
    "    return teams"
   ]
  },
  {
   "cell_type": "code",
   "execution_count": 8,
   "metadata": {
    "extensions": {
     "jupyter_dashboards": {
      "version": 1,
      "views": {
       "grid_default": {
        "hidden": true
       },
       "report_default": {
        "hidden": true
       }
      }
     }
    }
   },
   "outputs": [],
   "source": [
    "# prettier dates function\n",
    "def readable_date(date):\n",
    "    mm = date[4:6]\n",
    "    dd = date[6:]\n",
    "    yyyy = date[:4]\n",
    "    readable = mm+'/'+dd+'/'+yyyy\n",
    "    return readable\n",
    "\n",
    "def prettier_dates(shotdata):\n",
    "    # changing the GAME_DATE column in shotdata\n",
    "    temp = []\n",
    "    for date in shotdata.GAME_DATE:\n",
    "        read_date = readable_date(date)\n",
    "        temp += [read_date]\n",
    "\n",
    "    shotdata['GAME_DATE'] = temp\n",
    "    return shotdata"
   ]
  },
  {
   "cell_type": "code",
   "execution_count": 9,
   "metadata": {
    "extensions": {
     "jupyter_dashboards": {
      "version": 1,
      "views": {
       "grid_default": {
        "col": 0,
        "height": 12,
        "hidden": true,
        "row": 8,
        "width": 4
       },
       "report_default": {
        "hidden": true
       }
      }
     }
    },
    "scrolled": true
   },
   "outputs": [],
   "source": [
    "def get_player_other_dict(shotdata):\n",
    "    # getting other teams        \n",
    "    player_other_dd = dict()\n",
    "    for p, data in shotdata.groupby('PLAYER_NAME'):\n",
    "        all_teams = np.unique(shotdata.loc[shotdata['PLAYER_NAME']==p]['TEAM_ID']) # grab all of their teams (dont need .copy() because multi-dtype)\n",
    "        if len(all_teams) > 1:\n",
    "            current_team = shotdata.loc[shotdata['PLAYER_NAME']==p]['TEAM_ID'].values[-1] # grab their current team (ordered by date)\n",
    "            other_teams = all_teams[np.where(all_teams!=current_team)]                    # only grab previous teams\n",
    "            player_other_dd[p] = other_teams                                              # create dict keys and values\n",
    "            \n",
    "    return player_other_dd"
   ]
  },
  {
   "cell_type": "code",
   "execution_count": 10,
   "metadata": {
    "extensions": {
     "jupyter_dashboards": {
      "version": 1,
      "views": {
       "grid_default": {
        "col": 0,
        "height": 8,
        "hidden": true,
        "row": 8,
        "width": 12
       },
       "report_default": {
        "hidden": false
       }
      }
     }
    },
    "scrolled": true
   },
   "outputs": [],
   "source": [
    "def get_other_teams_df(player_other_dd, teams, players):\n",
    "    # creating other_teams dataframe from player dataframe (to append onto later)\n",
    "    other_teams = pd.DataFrame()\n",
    "    for player in player_other_dd.keys():\n",
    "        for i in range(len(player_other_dd[player])):\n",
    "            # grabbing the additional row\n",
    "            new_row = players[players['DISPLAY_FIRST_LAST']==player].copy()\n",
    "            index = new_row.index[0] # finding index label\n",
    "        \n",
    "            # changing team columns\n",
    "            team_id = player_other_dd[player][i]\n",
    "        \n",
    "            # updating the team columns\n",
    "            new_row.loc[index,'TEAM_ID'] = team_id\n",
    "            new_row.loc[index,'TEAM_NAME'] = teams['TEAM_NAME'][np.where(teams['TEAM_ID']==team_id)[0][0]]\n",
    "            new_row.loc[index,'TEAM_ABBREVIATION'] = teams['ABBREVIATION'][np.where(teams['TEAM_ID']==team_id)[0][0]]\n",
    "            new_row.loc[index,'TEAM_CITY'] = players['TEAM_CITY'][players.index[np.where(players['TEAM_ID']==team_id)[0][0]]]\n",
    "            new_row.loc[index,'TEAM_CODE'] = players['TEAM_CODE'][players.index[np.where(players['TEAM_ID']==team_id)[0][0]]]\n",
    "        \n",
    "            # adding the updated column\n",
    "            other_teams = other_teams.append(new_row)\n",
    "    \n",
    "    return other_teams"
   ]
  },
  {
   "cell_type": "code",
   "execution_count": 11,
   "metadata": {
    "extensions": {
     "jupyter_dashboards": {
      "version": 1,
      "views": {
       "grid_default": {
        "col": 0,
        "height": 12,
        "hidden": true,
        "row": 8,
        "width": 12
       },
       "report_default": {
        "hidden": false
       }
      }
     }
    }
   },
   "outputs": [],
   "source": [
    "def combine_all_teams(players, other_teams):\n",
    "    # appending other_teams onto players dataframe and sorting\n",
    "    players = players.append(other_teams).sort_values('DISPLAY_LAST_COMMA_FIRST')\n",
    "    return players"
   ]
  },
  {
   "cell_type": "code",
   "execution_count": 12,
   "metadata": {
    "extensions": {
     "jupyter_dashboards": {
      "version": 1,
      "views": {
       "grid_default": {
        "hidden": true
       },
       "report_default": {
        "hidden": true
       }
      }
     }
    }
   },
   "outputs": [],
   "source": [
    "# preparation for correlation matrix, shooting heatmap, dendrogram\n",
    "def get_ID_indexes(teams, players):\n",
    "    teams = teams.set_index('TEAM_ID')\n",
    "    teamids = np.unique(teams.index.values)\n",
    "\n",
    "    players = players.set_index('PERSON_ID')\n",
    "    playerids = np.unique(players.loc[players.TEAM_ID.isin(teamids)].index.values)\n",
    "    \n",
    "    return teams, teamids, players, playerids"
   ]
  },
  {
   "cell_type": "code",
   "execution_count": 13,
   "metadata": {
    "extensions": {
     "jupyter_dashboards": {
      "version": 1,
      "views": {
       "grid_default": {
        "hidden": true
       },
       "report_default": {
        "hidden": true
       }
      }
     }
    }
   },
   "outputs": [],
   "source": [
    "# following data gathering procedure shown here \n",
    "# https://arxiv.org/abs/1401.0942\n",
    "def get_allshots(playerids):\n",
    "    shotdf = []\n",
    "    for p in playerids:\n",
    "        # get player p's data\n",
    "        shotdata = h.get_nba_data('shotchartdetail', shotchart_params(playerid=p))\n",
    "    \n",
    "        # subset columns\n",
    "        sc = shotdata.loc[:,'SHOT_DISTANCE':'SHOT_MADE_FLAG']\n",
    "        sc.drop('SHOT_ATTEMPTED_FLAG', axis=1)\n",
    "\n",
    "        # filter shots to 31 feet from end zone\n",
    "        sc = sc.loc[sc.LOC_Y < (31*12)]\n",
    " \n",
    "        # keep data with more than 50 shots\n",
    "        if sc.SHOT_MADE_FLAG.sum() > 50:\n",
    "            sc['PlayerID'] = p\n",
    "            shotdf += [sc]\n",
    "        \n",
    "    allshots = pd.concat(shotdf)\n",
    "\n",
    "    pickle.dump(allshots, open('allshots' + str(latest_season) + '.pkl', 'wb'))"
   ]
  },
  {
   "cell_type": "code",
   "execution_count": 14,
   "metadata": {
    "extensions": {
     "jupyter_dashboards": {
      "version": 1,
      "views": {
       "grid_default": {
        "hidden": true
       },
       "report_default": {
        "hidden": true
       }
      }
     }
    }
   },
   "outputs": [],
   "source": [
    "def make_court_bins(allshots):\n",
    "    # making court\n",
    "    # bin edge definitions in inches\n",
    "    xedges = (np.linspace(start=-25, stop=25, num=151, dtype=np.float)) * 12\n",
    "    yedges = (np.linspace(start= -4, stop=31, num=106, dtype=np.float)) * 12\n",
    "\n",
    "    # number of bins is one less than number of edges\n",
    "    nx = xedges.size - 1\n",
    "    ny = yedges.size - 1\n",
    "\n",
    "    # 2d histogram containers for binned counts and smoothed binned counts\n",
    "    all_smooth = {}\n",
    "    all_counts = {}\n",
    "\n",
    "    # data matrix: players (row) by vectorized 2-d court locations (column)\n",
    "    for i, one in enumerate(allshots.groupby('PlayerID')):\n",
    "    \n",
    "        # pid is player and pdf is the rows associated to the player\n",
    "        pid, pdf = one\n",
    "    \n",
    "        # h.bin_shots, see below for its function performance example\n",
    "        tmp1, xedges, yedges = h.bin_shots(pdf, bin_edges=(xedges, yedges), density=True, sigma=2)\n",
    "        tmp2, xedges, yedges = h.bin_shots(pdf, bin_edges=(xedges, yedges), density=False)\n",
    "    \n",
    "        # vectorize and store into dictionary\n",
    "        all_smooth[pid] = tmp1.reshape(-1)\n",
    "        all_counts[pid] = tmp2.reshape(-1)\n",
    "    \n",
    "    return all_smooth, all_counts, xedges, yedges"
   ]
  },
  {
   "cell_type": "code",
   "execution_count": 15,
   "metadata": {
    "extensions": {
     "jupyter_dashboards": {
      "version": 1,
      "views": {
       "grid_default": {
        "col": 6,
        "height": 14,
        "hidden": true,
        "row": 3,
        "width": 6
       },
       "report_default": {
        "hidden": false
       }
      }
     }
    }
   },
   "outputs": [],
   "source": [
    "def correlation_matrix(data):\n",
    "    # computing the correlation matrix R\n",
    "    R = np.corrcoef(data,rowvar=0) \n",
    "\n",
    "    # visualizing the matrix R\n",
    "    plt.figure(figsize=(10,8))\n",
    "    vis_R = sns.heatmap(R)"
   ]
  },
  {
   "cell_type": "code",
   "execution_count": 16,
   "metadata": {
    "extensions": {
     "jupyter_dashboards": {
      "version": 1,
      "views": {
       "grid_default": {
        "col": 0,
        "height": 10,
        "hidden": true,
        "row": 11,
        "width": 6
       },
       "report_default": {
        "hidden": true
       }
      }
     }
    }
   },
   "outputs": [],
   "source": [
    "def non_negative_matrix(n_components, train_data):\n",
    "    model = skld.NMF(n_components=n_components, init='nndsvda', max_iter=500, random_state=0)\n",
    "    W = model.fit_transform(train_data)\n",
    "    H = model.components_\n",
    "    return W, H\n",
    "\n",
    "# non negative matrix parameter tuning\n",
    "# computing the norm of the difference\n",
    "def nnmf_paramater_tuning(data):\n",
    "    r_values = [1,5,7,10,13,15,17,20,25,30]\n",
    "    error_norm = []\n",
    "    for r in r_values:\n",
    "        W,H = non_negative_matrix(n_components = r, train_data = data)\n",
    "        error_norm.append(LA.norm(data-np.matmul(W,H),'fro'))\n",
    "    \n",
    "    # plotting the approximation error as a function of r\n",
    "    plt.plot(r_values, error_norm)\n",
    "    plt.title('Approximated Error as a Function of r')\n",
    "    plt.xlabel('r')\n",
    "    plt.ylabel('Error')\n",
    "    plt.show()"
   ]
  },
  {
   "cell_type": "code",
   "execution_count": 17,
   "metadata": {
    "extensions": {
     "jupyter_dashboards": {
      "version": 1,
      "views": {
       "grid_default": {
        "hidden": true
       },
       "report_default": {}
      }
     }
    }
   },
   "outputs": [],
   "source": [
    "# constructing player shooting heatmap\n",
    "def make_heatmap(playerid, players, xedges, yedges, all_smooth):\n",
    "    shoot_heat = h.plot_shotchart(all_smooth[int(playerid)], xedges, yedges)\n",
    "\n",
    "    if type(players.DISPLAY_FIRST_LAST[int(playerid)]) == str:\n",
    "        shoot_heat.set_title(players.DISPLAY_FIRST_LAST[int(playerid)] +'\\'s Shooting Style')\n",
    "    else: # multiple teams, so indexing pulls more than one result\n",
    "        shoot_heat.set_title(players.DISPLAY_FIRST_LAST[int(playerid)].any() + ' Shooting Style')"
   ]
  },
  {
   "cell_type": "code",
   "execution_count": 18,
   "metadata": {
    "extensions": {
     "jupyter_dashboards": {
      "version": 1,
      "views": {
       "grid_default": {
        "hidden": true
       },
       "report_default": {}
      }
     }
    }
   },
   "outputs": [],
   "source": [
    "# hierarchical clustering\n",
    "def hierarchical_prep(X, r_select, players, all_smooth):  \n",
    "    # non negative matrix factorization with 10 base vectors\n",
    "    W, H = non_negative_matrix(r_select, X)\n",
    "    \n",
    "    # getting cleaner looking data for hierarchical clustering\n",
    "    players_coeff = pd.DataFrame(H, columns=players.DISPLAY_FIRST_LAST[list(all_smooth.keys())].unique())\n",
    "    # standardizing players (want them to sum to 1)\n",
    "    players_coeff /= players_coeff.sum(0)\n",
    "    return players_coeff\n",
    "    \n",
    "def plot_dendrogram(playerid, players_coeff, players, all_smooth):\n",
    "    # defining linkage type\n",
    "    Z = linkage(players_coeff.T, method='complete', metric='euclidean')\n",
    "    \n",
    "    # plotting the dendogram\n",
    "    plt.figure(figsize=(52,20))\n",
    "    plt.title('Hierarchical Clustering Dendrogram')\n",
    "    plt.ylabel('distance')\n",
    "    dendro = dendrogram(\n",
    "                Z,\n",
    "                leaf_rotation=90.,  # rotates the x axis labels\n",
    "                leaf_font_size=12.,  # font size for the x axis labels\n",
    "                labels = np.array(players.DISPLAY_FIRST_LAST[list(all_smooth.keys())].unique())\n",
    "    )\n",
    "\n",
    "    # getting list of player ticks\n",
    "    player_ticks = dendro['ivl']\n",
    "\n",
    "    # coloring the player\n",
    "    if type(players.DISPLAY_FIRST_LAST[int(playerid)]) == str:\n",
    "        player_loc = list(player_ticks).index(players.DISPLAY_FIRST_LAST[int(playerid)])\n",
    "    else: # multiple teams, so indexing pulls more than one result\n",
    "        player_loc = list(player_ticks).index(players.DISPLAY_FIRST_LAST[int(playerid)].any())\n",
    "    plt.gca().get_xticklabels()[player_loc].set_color('g')"
   ]
  },
  {
   "cell_type": "code",
   "execution_count": 19,
   "metadata": {
    "extensions": {
     "jupyter_dashboards": {
      "version": 1,
      "views": {
       "grid_default": {
        "hidden": true
       },
       "report_default": {}
      }
     }
    }
   },
   "outputs": [],
   "source": [
    "# plotting total shots each game for chosen player\n",
    "def plot_total_shots(player_shots, date_shots_df, date_location):   \n",
    "    objects = date_shots_df['GAME_DATE']\n",
    "    y_pos = np.arange(len(objects))\n",
    "    shots_plot = plt.bar(y_pos, date_shots_df['shots_made'], align = 'center')\n",
    "    plt.xticks(y_pos, objects, rotation=90, fontsize=7);\n",
    "    \n",
    "    plt.xlabel('Game Date')\n",
    "    plt.ylabel('Shots Made')\n",
    "    plt.title('Total Shots Made Each Game by ' + str(list(player_shots['PLAYER_NAME'])[0]) \n",
    "              + ' for ' + str(list(player_shots['TEAM_NAME'])[0]))\n",
    "    \n",
    "    # coloring specific date bar and label\n",
    "    shots_plot.get_children()[date_location].set_color('g') \n",
    "    plt.gca().get_xticklabels()[date_location].set_color('g')"
   ]
  },
  {
   "cell_type": "code",
   "execution_count": 20,
   "metadata": {
    "extensions": {
     "jupyter_dashboards": {
      "version": 1,
      "views": {
       "grid_default": {
        "hidden": true
       },
       "report_default": {}
      }
     }
    }
   },
   "outputs": [],
   "source": [
    "# plotting percentage of shots made in each period for chosen game\n",
    "def plot_percent_shots(match_date, gameid, teamid, playerid):\n",
    "    # getting data set up for percentage of shots\n",
    "    # made in each period for chosen game    \n",
    "    period_percentage = h.get_nba_data('shotchartdetail', shotchart_params(teamid, playerid, gameid))\n",
    "    period_percentage_dd = dict()\n",
    "    for p, s in period_percentage.groupby('PERIOD'):\n",
    "        period_percentage_dd[p] = sum(s.SHOT_MADE_FLAG) / sum(s.SHOT_ATTEMPTED_FLAG)\n",
    "    \n",
    "    period_percentage_df = pd.DataFrame({\n",
    "                        'period': sorted(list(period_percentage_dd.keys())),\n",
    "                        'percentage_made': list(period_percentage_dd.values()),    \n",
    "                      })\n",
    "    \n",
    "    plt.plot((period_percentage_df['period']), period_percentage_df['percentage_made'], '-o')\n",
    "    plt.xlabel('Period')\n",
    "    plt.ylabel('Percentage of Shots Made')\n",
    "    plt.title('Percentage of Shots Made Per Period on ' + str(readable_date(match_date)))\n",
    "    \n",
    "    ticks=[1,2,3,4]\n",
    "    ot = [] # for overtime periods\n",
    "    quarters = list(period_percentage.PERIOD.unique()) # quarters where shots were taken\n",
    "    for i in quarters: # getting possible overtime periods\n",
    "        if i > 4:\n",
    "            ot.append(i)\n",
    "    if len(ot) != 0:\n",
    "        ticks += ot\n",
    "    \n",
    "    plt.xticks(ticks)\n",
    "    plt.xlim((0.5,ticks[-1] + 0.5))\n",
    "    plt.ylim((-0.1,1.1))"
   ]
  },
  {
   "cell_type": "code",
   "execution_count": 21,
   "metadata": {
    "extensions": {
     "jupyter_dashboards": {
      "version": 1,
      "views": {
       "grid_default": {
        "hidden": true
       },
       "report_default": {
        "hidden": true
       }
      }
     }
    }
   },
   "outputs": [],
   "source": [
    "def widgets_prep(teams, players, shotdata):\n",
    "    # getting dictionaries ready for the widgets\n",
    "    # creating (team: teamid) dictionary\n",
    "    teams = teams.sort_values('ABBREVIATION') # sorting teams by abbreviation\n",
    "    team_dd_text = teams.ABBREVIATION + ', ' + teams.TEAM_NAME\n",
    "    team_dd = dict(zip(team_dd_text, teams.index))\n",
    "\n",
    "    # creating players by team dictionary\n",
    "    # teamid: {player: personid})\n",
    "    players = players.sort_values('DISPLAY_FIRST_LAST') # sorting players by first name\n",
    "    plyr_by_team_dd = dict()\n",
    "    for t, p in players.groupby('TEAM_ID'):\n",
    "        plyr_by_team_dd[t] = dict(zip(p.DISPLAY_FIRST_LAST, p.index))\n",
    "\n",
    "    # creating games by player dictionary\n",
    "    # (personid, teamid): {game date: gameid}\n",
    "    game_by_player_dd = dict()\n",
    "    for p, g in shotdata.groupby(['PLAYER_ID','TEAM_ID']):\n",
    "        game_by_player_dd[p] = dict(zip(g.GAME_DATE, g.GAME_ID))\n",
    "        \n",
    "    return team_dd, plyr_by_team_dd, game_by_player_dd"
   ]
  },
  {
   "cell_type": "code",
   "execution_count": 22,
   "metadata": {
    "extensions": {
     "jupyter_dashboards": {
      "version": 1,
      "views": {
       "grid_default": {
        "col": 0,
        "height": 85,
        "hidden": false,
        "row": 3,
        "width": 12
       },
       "report_default": {}
      }
     }
    },
    "scrolled": false
   },
   "outputs": [
    {
     "data": {
      "application/vnd.jupyter.widget-view+json": {
       "model_id": "27e87038c8144d5b9f1aeda6a23a2382",
       "version_major": 2,
       "version_minor": 0
      },
      "text/plain": [
       "Dropdown(index=70, options=('1946-47', '1947-48', '1948-49', '1949-50', '1950-51', '1951-52', '1952-53', '1953…"
      ]
     },
     "metadata": {},
     "output_type": "display_data"
    },
    {
     "data": {
      "application/vnd.jupyter.widget-view+json": {
       "model_id": "ddc291040a8541ca824a801341f89b63",
       "version_major": 2,
       "version_minor": 0
      },
      "text/plain": [
       "Button(description='Choose Season!', icon='check', style=ButtonStyle())"
      ]
     },
     "metadata": {},
     "output_type": "display_data"
    },
    {
     "data": {
      "application/vnd.jupyter.widget-view+json": {
       "model_id": "b33c435be89b4ac9a462571ad27be2f7",
       "version_major": 2,
       "version_minor": 0
      },
      "text/plain": [
       "Output()"
      ]
     },
     "metadata": {},
     "output_type": "display_data"
    }
   ],
   "source": [
    "# choose season drop down menu\n",
    "latest_season = '2016-17'\n",
    "current_year = 2017\n",
    "\n",
    "season_menu = Dropdown(options= seasons , label=latest_season)\n",
    "season_button = Button(description='Choose Season!', icon='check')\n",
    "\n",
    "def select_season(pick):\n",
    "    with out00:\n",
    "        clear_output()\n",
    "        \n",
    "        latest_season = season_menu.value\n",
    "        print('Season picked is ' + season_menu.value + '!')\n",
    "\n",
    "        if season_menu.value == '1999-00': current_year = 2000\n",
    "        else: current_year = int(season_menu.value[:2]+season_menu.value[-2:])\n",
    "\n",
    "        # setting up the data\n",
    "        print('Getting season data...')\n",
    "        teams, players, shotdata = get_data()\n",
    "        teams, players, shotdata = get_current(teams, players, shotdata)\n",
    "        teams = clean_teams(teams, players)\n",
    "        shotdata = prettier_dates(shotdata)\n",
    "        player_other_dd = get_player_other_dict(shotdata)\n",
    "        other_teams = get_other_teams_df(player_other_dd, teams, players)\n",
    "        players = combine_all_teams(players, other_teams)\n",
    "        teams, teamids, players, playerids = get_ID_indexes(teams, players)\n",
    "\n",
    "        # getting allshots data from pickle file\n",
    "        try: allshots = pickle.load(open('allshots' + str(latest_season) + '.pkl', 'rb'))\n",
    "        except: \n",
    "            print('Please wait while shot data is pulled :)')\n",
    "            get_allshots(playerids)\n",
    "\n",
    "        # constructing heatmap\n",
    "        print('Constructing heatmap...')\n",
    "        all_smooth, all_counts, xedges, yedges = make_court_bins(allshots)\n",
    "\n",
    "        # non negative matrix factorization\n",
    "        # creating our X matrix\n",
    "        X = np.stack(all_smooth.values()).T\n",
    "        correlation_matrix(X)\n",
    "        show_inline_matplotlib_plots()\n",
    "\n",
    "\n",
    "        # tuning parameters buton\n",
    "        # then r selection button\n",
    "        # then player selection button\n",
    "        # then game selection button\n",
    "        def begin_tuning(a):\n",
    "            def select_r(b):\n",
    "                def get_player_visuals(c):\n",
    "                    def get_game_visuals(d):\n",
    "                        # DEFINTION START: get_game_visuals\n",
    "                        with out03:\n",
    "                            clear_output()\n",
    "\n",
    "                            teamid = str(team_menu.value)\n",
    "                            playerid = str(plyr_menu.value)\n",
    "                            gameid = str(game_menu.value)\n",
    "\n",
    "                            # getting data set up for plot of total \n",
    "                            # shots each game for chosen player\n",
    "                            player_shots = h.get_nba_data('shotchartdetail', shotchart_params(teamid, playerid))\n",
    "                            player_shots_dd = dict()\n",
    "                            for d, s in player_shots.groupby('GAME_DATE'):\n",
    "                                player_shots_dd[d] = sum(s.SHOT_MADE_FLAG)\n",
    "\n",
    "                            date_shots_df = pd.DataFrame({\n",
    "                                                'GAME_DATE': list(player_shots_dd.keys()),\n",
    "                                                'shots_made': list(player_shots_dd.values()),\n",
    "                                                })\n",
    "\n",
    "                            # getting game date (from value) to color later in plot_total_shots()\n",
    "                            gameid_index = list(player_shots['GAME_ID']).index(gameid)\n",
    "                            match_date = list(player_shots['GAME_DATE'])[gameid_index]\n",
    "                            date_location = list(date_shots_df.GAME_DATE).index(match_date)\n",
    "\n",
    "                            # getting prettier dates\n",
    "                            date_shots_df = prettier_dates(date_shots_df)\n",
    "\n",
    "                            plt.figure(figsize = (25, 8))\n",
    "                            # plotting total shots each game for chosen player\n",
    "                            plt.subplot(121)\n",
    "                            plot_total_shots(player_shots, date_shots_df, date_location)\n",
    "                            # plotting percentage of shots made in each period for chosen game\n",
    "                            plt.subplot(122)\n",
    "                            plot_percent_shots(match_date, gameid, teamid, playerid)\n",
    "                            show_inline_matplotlib_plots()\n",
    "\n",
    "                    # DEFINITION START: get_player_visuals\n",
    "                    with out02:\n",
    "                        clear_output()\n",
    "                        teamid = str(team_menu.value)\n",
    "                        playerid = str(plyr_menu.value)\n",
    "\n",
    "                        # pass on the player with less than 50 shots\n",
    "                        try: \n",
    "                            # constructing player shooting heatmap\n",
    "                            make_heatmap(playerid, players, xedges, yedges, all_smooth)\n",
    "                            show_inline_matplotlib_plots()\n",
    "                            # hierarchical clustering \n",
    "                            players_coeff = hierarchical_prep(X, r_select, players, all_smooth)\n",
    "                            plot_dendrogram(playerid, players_coeff, players, all_smooth)\n",
    "                            show_inline_matplotlib_plots()\n",
    "                        except: print('Less than 50 shots.')\n",
    "\n",
    "                        # call game button now\n",
    "                        game_button = Button(description='Get Game Data!', icon='check')\n",
    "                        display(game_menu, game_button)\n",
    "                        out03 = Output()\n",
    "                        display(out03)\n",
    "                        with out03:\n",
    "                            game_button.on_click(get_game_visuals)\n",
    "\n",
    "                # DEFINITION START: select_r \n",
    "                with out01:\n",
    "                    clear_output()\n",
    "\n",
    "                    r_select = r_menu.value\n",
    "                    print('I have chosen to use ' + str(r_menu.value) + ' base vectors.')\n",
    "\n",
    "                    # call team and player button now\n",
    "                    player_button = Button(description='Get Player Data!', icon='check')\n",
    "                    display(team_menu, plyr_menu, player_button)\n",
    "                    out02 = Output()\n",
    "                    display(out02)\n",
    "                    with out02:\n",
    "                        player_button.on_click(get_player_visuals)\n",
    "\n",
    "            # DEFINITION START: begin_tuning\n",
    "            # get rid of tuning button (no need to repeat it)\n",
    "            tuning_button.close()\n",
    "\n",
    "            print('Tuning paramaters...')\n",
    "            nnmf_paramater_tuning(X)\n",
    "            show_inline_matplotlib_plots()\n",
    "\n",
    "            # choosing number of base vectors\n",
    "            # prep for r selection\n",
    "            r_menu = Dropdown(options= range(1,31), label='10')\n",
    "            r_button = Button(description='Pick number of nnmf components!', icon='check', layout=Layout(width='35%'))\n",
    "            print('Choose the number of base vectors you would like to have (default is 10).')\n",
    "                \n",
    "            display(r_menu, r_button)\n",
    "            out01 = Output()\n",
    "            display(out01)\n",
    "            with out01:\n",
    "                r_button.on_click(select_r)\n",
    "\n",
    "\n",
    "        print('Let\\'s now tune our parameters')\n",
    "        tuning_button = Button(description='Start Tuning', icon='check')\n",
    "        display(tuning_button)\n",
    "        tuning_button.on_click(begin_tuning)\n",
    "\n",
    "        # getting data setup\n",
    "        team_dd, plyr_by_team_dd, game_by_player_dd = widgets_prep(teams, players, shotdata)\n",
    "\n",
    "        # creating widgets\n",
    "        label_hold = shotdata.loc[0,'PLAYER_ID']\n",
    "        selected00 = players.loc[label_hold,'TEAM_ABBREVIATION'] + ', ' + players.loc[label_hold,'TEAM_NAME']\n",
    "        selected01 = players.loc[label_hold, 'DISPLAY_FIRST_LAST']\n",
    "        selected02 = shotdata.loc[0,'GAME_DATE']\n",
    "\n",
    "        team_menu = Dropdown(options=team_dd, label=selected00)\n",
    "        plyr_menu = Dropdown(options=plyr_by_team_dd[team_dd[selected00]], label=selected01)\n",
    "        game_menu = Dropdown(options=game_by_player_dd[(plyr_by_team_dd[team_dd[selected00]][selected01], team_dd[selected00])], label=selected02)\n",
    "\n",
    "        \n",
    "        # update players list definition\n",
    "        def update_team(change): \n",
    "            plyr_menu.options = plyr_by_team_dd[change['new']]\n",
    "            plyr_menu.value = list(plyr_by_team_dd[change['new']].values())[0]\n",
    "\n",
    "        # update game list defintition\n",
    "        def update_player(change):\n",
    "            if change['new'] != None: # update game from player only when player is changed, ow will do it through above cell\n",
    "                game_menu.options = game_by_player_dd[(change['new'], team_menu.value)]\n",
    "                game_menu.value = list(game_by_player_dd[(change['new'], team_menu.value)].values())[0]   \n",
    "        \n",
    "        # updating widgets\n",
    "        team_menu.observe(update_team, names='value')\n",
    "        plyr_menu.observe(update_player, names='value')\n",
    "\n",
    "\n",
    "display(season_menu, season_button)\n",
    "out00 = Output()\n",
    "display(out00)\n",
    "with out00:\n",
    "    season_button.on_click(select_season)"
   ]
  }
 ],
 "metadata": {
  "extensions": {
   "jupyter_dashboards": {
    "activeView": "grid_default",
    "version": 1,
    "views": {
     "grid_default": {
      "cellMargin": 10,
      "defaultCellHeight": 20,
      "maxColumns": 12,
      "name": "grid",
      "type": "grid"
     },
     "report_default": {
      "name": "report",
      "type": "report"
     }
    }
   }
  },
  "kernelspec": {
   "display_name": "Python 3",
   "language": "python",
   "name": "python3"
  },
  "language_info": {
   "codemirror_mode": {
    "name": "ipython",
    "version": 3
   },
   "file_extension": ".py",
   "mimetype": "text/x-python",
   "name": "python",
   "nbconvert_exporter": "python",
   "pygments_lexer": "ipython3",
   "version": "3.6.5"
  }
 },
 "nbformat": 4,
 "nbformat_minor": 2
}

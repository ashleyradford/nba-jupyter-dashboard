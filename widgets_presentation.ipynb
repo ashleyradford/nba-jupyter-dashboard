{
 "cells": [
  {
   "cell_type": "markdown",
   "metadata": {},
   "source": [
    "## Creating Widgets that Navigate through NBA Statistics\n",
    "By Ashley Radford\n",
    "\n",
    "Downloading and using nba data from stats.nba.com to create interactive widgets that present plots analyzing the players' shots. This data is used to demonstrate data transformation and visualization via the split-apply-combine approach.\n",
    "\n",
    "### Data download\n",
    "The `get_nba_data()` function from the helper_basketball module will be used to download multiple nba datasets that will be needed for the drop down selection widgets. These datasets incude the teams data, player data, and shots data. End visualizations will require specific selected data grabbed from the shots data, which in and of itself will require specific paramaters. Thus, after retrieving our three necessary datasets using the `get_nba_data()` function, we will create another function with three parameters (team id, name id, and game date id). This function will return the necessary parameters for a specifc team, player, and game date for the `get_nba_data()` function used to download shots data. This function, `choose_player_game()`, is tested along with `get_nba_data()` below."
   ]
  },
  {
   "cell_type": "code",
   "execution_count": 1,
   "metadata": {},
   "outputs": [],
   "source": [
    "# necessary importations\n",
    "import numpy as np\n",
    "import pandas as pd\n",
    "from ipywidgets import Dropdown, Button\n",
    "import matplotlib.pyplot as plt\n",
    "from IPython.core.pylabtools import figsize\n",
    "from IPython.display import clear_output\n",
    "import helper_basketball as h"
   ]
  },
  {
   "cell_type": "code",
   "execution_count": 2,
   "metadata": {},
   "outputs": [],
   "source": [
    "# choose season and year\n",
    "# note: current_year is 20BB when latest_season is 20AA-BB\n",
    "current_year = 2017\n",
    "latest_season = '2016-17'"
   ]
  },
  {
   "cell_type": "code",
   "execution_count": null,
   "metadata": {},
   "outputs": [],
   "source": [
    "# getting teams data (refer to function comments in helper_basketball.py for appropriate parameters)\n",
    "teams_params = {'LeagueID':'00'}\n",
    "teams = h.get_nba_data('commonTeamYears', teams_params)\n",
    "teams.head()"
   ]
  },
  {
   "cell_type": "code",
   "execution_count": null,
   "metadata": {},
   "outputs": [],
   "source": [
    "# link that data is pulled from\n",
    "# http://stats.nba.com/stats/commonTeamYears?LeagueID=00"
   ]
  },
  {
   "cell_type": "code",
   "execution_count": null,
   "metadata": {},
   "outputs": [],
   "source": [
    "# getting player data\n",
    "# can put whatever in season, not only current season\n",
    "players_params = {'LeagueID':'00', 'Season': latest_season, 'IsOnlyCurrentSeason':'0'}\n",
    "players = h.get_nba_data('commonallplayers', players_params)\n",
    "players.head()"
   ]
  },
  {
   "cell_type": "code",
   "execution_count": null,
   "metadata": {},
   "outputs": [],
   "source": [
    "# getting shots data\n",
    "shots_params = {'PlayerID':'0',\n",
    "                'PlayerPosition':'',\n",
    "                'Season': latest_season,\n",
    "                'ContextMeasure':'FGA',\n",
    "                'DateFrom':'',\n",
    "                'DateTo':'',\n",
    "                'GameID':'',\n",
    "                'GameSegment':'',\n",
    "                'LastNGames':'0',\n",
    "                'LeagueID':'00',\n",
    "                'Location':'',\n",
    "                'Month':'0',\n",
    "                'OpponentTeamID':'0',\n",
    "                'Outcome':'',\n",
    "                'Period':'0',\n",
    "                'Position':'',\n",
    "                'RookieYear':'',\n",
    "                'SeasonSegment':'',\n",
    "                'SeasonType':'Regular Season',\n",
    "                'TeamID':'0',\n",
    "                'VsConference':'',\n",
    "                'VsDivision':''}\n",
    "\n",
    "shotdata = h.get_nba_data('shotchartdetail', shots_params)\n",
    "shotdata.head()"
   ]
  },
  {
   "cell_type": "code",
   "execution_count": null,
   "metadata": {},
   "outputs": [],
   "source": [
    "# function using the widgets selections\n",
    "def choose_player_game(teamid, playerid='0', gameid=None):\n",
    "    if teamid == None: teamid = '0'\n",
    "    if playerid == None: playerid = '0'\n",
    "    if gameid == None: gameid = ''\n",
    "    chosen_params = {'PlayerID':playerid,\n",
    "                     'PlayerPosition':'',\n",
    "                     'Season': latest_season,\n",
    "                     'ContextMeasure':'FGA',\n",
    "                     'DateFrom':'',\n",
    "                     'DateTo':'',\n",
    "                     'GameID':gameid,\n",
    "                     'GameSegment':'',\n",
    "                     'LastNGames':'0',\n",
    "                     'LeagueID':'00',\n",
    "                     'Location':'',\n",
    "                     'Month':'0',\n",
    "                     'OpponentTeamID':'0',\n",
    "                     'Outcome':'',\n",
    "                     'Period':'0',\n",
    "                     'Position':'',\n",
    "                     'RookieYear':'',\n",
    "                     'SeasonSegment':'',\n",
    "                     'SeasonType':'Regular Season',\n",
    "                     'TeamID':teamid,\n",
    "                     'VsConference':'',\n",
    "                     'VsDivision':''}\n",
    "    return chosen_params\n",
    "\n",
    "# test function for parameters Golden State Warriors, Stephen Curry, and 10/25/2016 game\n",
    "# only works when current_year is 2017 and latest_season is 2016-17\n",
    "player_game = h.get_nba_data('shotchartdetail', choose_player_game('1610612744', '201939', '0021600003'))\n",
    "player_game.head()"
   ]
  },
  {
   "cell_type": "markdown",
   "metadata": {},
   "source": [
    "### Subsetting and cleaning data for widget creation\n",
    "Later we will be creating the 3 widgets that will be used to pull data with the `chose_player_game()` and `get_nba_data()` functions. However, we first want to set up the data types and make sure to subset only the current teams and active players (players who played at least one game in the selected season) for our drop down selections. This is because we plan to have the following widgets: first one to select the team, then one to pick a player from the selected team, and then a third to pick a specific game that that player took shots in. We will do a check of the data and then follow with some more data clean up."
   ]
  },
  {
   "cell_type": "code",
   "execution_count": null,
   "metadata": {},
   "outputs": [],
   "source": [
    "# setting up series types\n",
    "teams.ABBREVIATION = teams.ABBREVIATION.astype('category')\n",
    "teams.TEAM_ID      = teams.TEAM_ID.astype('category')\n",
    "teams.MIN_YEAR     = teams.MIN_YEAR.astype('int')\n",
    "teams.MAX_YEAR     = teams.MAX_YEAR.astype('int')\n",
    "\n",
    "# taking current teams\n",
    "teams = teams[(teams.MIN_YEAR <= (current_year-1)) & (teams.MAX_YEAR >= current_year)]\n",
    "# taking current and active players\n",
    "players = players[players.TEAM_ID.isin(teams.TEAM_ID) & players.PERSON_ID.isin(shotdata.PLAYER_ID)]\n",
    "# taking active players shotdata\n",
    "shotdata = shotdata[shotdata.PLAYER_ID.isin(players.PERSON_ID)]"
   ]
  },
  {
   "cell_type": "code",
   "execution_count": null,
   "metadata": {},
   "outputs": [],
   "source": [
    "# checking teams data\n",
    "teams.head()"
   ]
  },
  {
   "cell_type": "code",
   "execution_count": null,
   "metadata": {},
   "outputs": [],
   "source": [
    "# checking players data\n",
    "players.head()"
   ]
  },
  {
   "cell_type": "code",
   "execution_count": null,
   "metadata": {},
   "outputs": [],
   "source": [
    "# checking shots \n",
    "shotdata.head()"
   ]
  },
  {
   "cell_type": "markdown",
   "metadata": {},
   "source": [
    "### Adding in some columns for later convenience\n",
    "Eventually, we are going to want to take the name of a team from the teams dataframe for convenience. Thus, we will create a `TEAM_NAME` column in the 'teams' dataframe. We will do this by using the merging in the `TEAM_NAME` column from the `players` dataframe."
   ]
  },
  {
   "cell_type": "code",
   "execution_count": null,
   "metadata": {},
   "outputs": [],
   "source": [
    "# creating TEAM_NAME column on teams by merging data from players\n",
    "team_names = players[['TEAM_ABBREVIATION', 'TEAM_NAME']].copy().drop_duplicates()\n",
    "teams = pd.merge(teams, team_names, left_on='ABBREVIATION', right_on='TEAM_ABBREVIATION')\n",
    "\n",
    "# getting rid of TEAM_ABBREVIATION column\n",
    "teams = teams.drop(['TEAM_ABBREVIATION'], axis=1) # only returns values, so needs to be reassigned\n",
    "teams.head()"
   ]
  },
  {
   "cell_type": "markdown",
   "metadata": {},
   "source": [
    "### Creating a useful function for current and later use\n",
    "In the following code, the function `readable_data()` is created to allow for proper formating of the game dates that are in `shotdata.`"
   ]
  },
  {
   "cell_type": "code",
   "execution_count": null,
   "metadata": {},
   "outputs": [],
   "source": [
    "# creating readable dates function\n",
    "def readable_date(date):\n",
    "    mm = date[4:6]\n",
    "    dd = date[6:]\n",
    "    yyyy = date[:4]\n",
    "    readable = mm+'/'+dd+'/'+yyyy\n",
    "    return readable\n",
    "\n",
    "# changing the GAME_DATE column in shotdata\n",
    "temp = []\n",
    "for date in shotdata.GAME_DATE:\n",
    "    read_date = readable_date(date)\n",
    "    temp += [read_date]\n",
    "\n",
    "shotdata['GAME_DATE'] = temp"
   ]
  },
  {
   "cell_type": "markdown",
   "metadata": {},
   "source": [
    "### Something to consider\n",
    "Before continuing, it is important that we understand our data and its source. What does it represent? What do we expect to see in our dataframes? What NBA rules would affect certain numbers and labels? For example, overtime exists in the NBA and so there may be more than 4 quarters represented. We see that there are actually up to 8 represented in our `shotdata` dataframe. No surprises here. However, are players stationary throughout a season, do they stay on the same team? Those familiar with the NBA know of the trading system. Our `shotdata` once again shows this to be true. To look at a specifc example, we see that the player DeMarcus Cousins' `TEAM_NAME` column contains two teams, the Sacramento Kings and the New Orleans Pelicans. Yet, the `Players` dataframe does not support this. In fact, there only exists a row for each unique player and their latest team, so in this case DeMarcus Cousins only seems to be a part of the New Orleans Pelicans. This issue will affect our dropdown menus in that there will be no way to properly pull Cousins' shots data under the Sacramento Kings. We will address this problem by first finding all the players who were in multiple teams throughout the season and then creating a dicitonary with their namre and the previous teams' ids. "
   ]
  },
  {
   "cell_type": "code",
   "execution_count": null,
   "metadata": {
    "scrolled": true
   },
   "outputs": [],
   "source": [
    "# getting other teams        \n",
    "player_other_dd = dict()\n",
    "for p, data in shotdata.groupby('PLAYER_NAME'):\n",
    "    all_teams = np.unique(shotdata.loc[shotdata['PLAYER_NAME']==p]['TEAM_ID']) # grab all of their teams (dont need .copy() because multi-dtype)\n",
    "    if len(all_teams) > 1:\n",
    "        current_team = shotdata.loc[shotdata['PLAYER_NAME']==p]['TEAM_ID'].values[-1] # grab their current team (ordered by date)\n",
    "        other_teams = all_teams[np.where(all_teams!=current_team)]                    # only grab previous teams\n",
    "        player_other_dd[p] = other_teams                                              # create dict keys and values\n",
    "\n",
    "player_other_dd"
   ]
  },
  {
   "cell_type": "markdown",
   "metadata": {},
   "source": [
    "We will now create a dataframe from this dictionary. Note that some of these players have more than one previous team. We want a dataframe where each row represents one team. And so we must comb through our new dataframe and ensure this to be the case, adjusting the rows when needed."
   ]
  },
  {
   "cell_type": "code",
   "execution_count": null,
   "metadata": {},
   "outputs": [],
   "source": [
    "# creating player_other dataframe\n",
    "player_other = pd.DataFrame({\n",
    "                 'player': list(player_other_dd.keys()),\n",
    "                 'previous_team': list(player_other_dd.values())\n",
    "               })\n",
    "\n",
    "# seperating the extra games teams (if they had more than 2 teams in a season)\n",
    "for i, l in enumerate(player_other['previous_team']):\n",
    "    player_other['previous_team'][i] = l[0]                # taking string from first positioned team\n",
    "    c=0                                                    # to help with new index count\n",
    "    if len(l) > 1:                                         # if they have more than 1 other team\n",
    "        l = (l[1:])                                        # not considering first other team\n",
    "        for t in l:\n",
    "            extra = pd.DataFrame({\n",
    "                      'player': player_other['player'][i], # grabbing player\n",
    "                      'previous_team': t                   # grabbing all other teams seperately\n",
    "                    }, index = [len(player_other)+c])      # getting new idexes\n",
    "            player_other = player_other.append(extra)      # appending the extra dataframe\n",
    "            c+=1\n",
    "            \n",
    "# sorting player_other alphabetically and resetting indices numbers\n",
    "player_other = player_other.sort_values('player').reset_index(drop=True) \n",
    "player_other[17:23]"
   ]
  },
  {
   "cell_type": "markdown",
   "metadata": {},
   "source": [
    "We will now grab copies of the rows from the `players` dataframe that correspond to the players in `player_other.` We will then adjust that row changing the team specific columns to represent the previous teams that were not accounted for (taking special care of thsoe with more than one previous team). We will be creating a new dataframe from these rows (note the the first line of code)."
   ]
  },
  {
   "cell_type": "code",
   "execution_count": null,
   "metadata": {
    "scrolled": true
   },
   "outputs": [],
   "source": [
    "# creating other_teams dataframe from player dataframe (to append onto later)\n",
    "other_teams = pd.DataFrame()\n",
    "for player in player_other_dd.keys():\n",
    "    for i in range(len(player_other_dd[player])):\n",
    "        # grabbing the additional row\n",
    "        new_row = players[players['DISPLAY_FIRST_LAST']==player].copy()\n",
    "        index = new_row.index[0] # finding index label\n",
    "        \n",
    "        # changing team columns\n",
    "        team_id = player_other_dd[player][i]\n",
    "        \n",
    "        # updating the team columns\n",
    "        new_row.loc[index,'TEAM_ID'] = team_id\n",
    "        new_row.loc[index,'TEAM_NAME'] = teams['TEAM_NAME'][np.where(teams['TEAM_ID']==team_id)[0][0]]\n",
    "        new_row.loc[index,'TEAM_ABBREVIATION'] = teams['ABBREVIATION'][np.where(teams['TEAM_ID']==team_id)[0][0]]\n",
    "        new_row.loc[index,'TEAM_CITY'] = players['TEAM_CITY'][players.index[np.where(players['TEAM_ID']==team_id)[0][0]]]\n",
    "        new_row.loc[index,'TEAM_CODE'] = players['TEAM_CODE'][players.index[np.where(players['TEAM_ID']==team_id)[0][0]]]\n",
    "        \n",
    "        # adding the updated column\n",
    "        other_teams = other_teams.append(new_row)\n",
    "    \n",
    "other_teams[17:22]"
   ]
  },
  {
   "cell_type": "markdown",
   "metadata": {},
   "source": [
    "Now that we have a complete dataframe of all previous teams and their corresponding player, we will be appending this to our original `players` dataframe. We now have all players and all of their teams accounted for in our `players` dataframe."
   ]
  },
  {
   "cell_type": "code",
   "execution_count": null,
   "metadata": {},
   "outputs": [],
   "source": [
    "# appending other_teams onto players dataframe and sorting\n",
    "players = players.append(other_teams).sort_values('DISPLAY_LAST_COMMA_FIRST')\n",
    "players.head(9)"
   ]
  },
  {
   "cell_type": "markdown",
   "metadata": {},
   "source": [
    "### Creating dictonaries for the widget drop down menus\n",
    "Now that our data is set up and ready to go, three dictionaries will be created from each dataset. We will first create a dictionary containing the team names and mascots as keys, with the teamids as the corresponding values. The second dictionary will have teamids as its keys and dictionaries as its values. These dictonary values will have player names as its keys and the corresponding playerid as its value. Finally, the third dictionary will have playerids as its keys and will have dictionaries as its values too. These dictionary values will have game dates as its keys and the corresponding datids for its values. Later, all the id keys from these three dictonaries will be used to fetch the wanted data using the `choose_player_game()` function."
   ]
  },
  {
   "cell_type": "code",
   "execution_count": null,
   "metadata": {},
   "outputs": [],
   "source": [
    "# getting dictionaries ready for the widgets\n",
    "# creating (team: teamid) dictionary\n",
    "teams = teams.sort_values('ABBREVIATION') # sorting teams by abbreviation\n",
    "team_dd_text = teams.ABBREVIATION + ', ' + teams.TEAM_NAME\n",
    "team_dd = dict(zip(team_dd_text, teams.TEAM_ID))\n",
    "\n",
    "# creating players by team dictionary\n",
    "# teamid: {player: personid})\n",
    "players = players.sort_values('DISPLAY_FIRST_LAST') # sorting players by first name\n",
    "plyr_by_team_dd = dict()\n",
    "for t, p in players.groupby('TEAM_ID'):\n",
    "    plyr_by_team_dd[t] = dict(zip(p.DISPLAY_FIRST_LAST, p.PERSON_ID))\n",
    "\n",
    "# creating games by player dictionary\n",
    "# (personid, teamid): {game date: gameid}\n",
    "game_by_player_dd = dict()\n",
    "for p, g in shotdata.groupby(['PLAYER_ID','TEAM_ID']):\n",
    "    game_by_player_dd[p] = dict(zip(g.GAME_DATE, g.GAME_ID))"
   ]
  },
  {
   "cell_type": "markdown",
   "metadata": {},
   "source": [
    "Finally, the interactive widgets will be created. The first will contain all the teams, the second all the players, and the third all the games. They will all act independently from one another as of now."
   ]
  },
  {
   "cell_type": "code",
   "execution_count": null,
   "metadata": {},
   "outputs": [],
   "source": [
    "# creating widgets\n",
    "# change selected00 and selected01 based on current_season (see helper_basketball)\n",
    "selected00 = 'NOP, Pelicans'\n",
    "selected01 = 'DeMarcus Cousins'\n",
    "\n",
    "team_menu = Dropdown(options=team_dd, label=selected00)\n",
    "plyr_menu = Dropdown(options=plyr_by_team_dd[team_dd[selected00]], label=selected01)\n",
    "game_menu = Dropdown(options=game_by_player_dd[(plyr_by_team_dd[team_dd[selected00]][selected01], team_dd[selected00])])\n",
    "\n",
    "display(team_menu, plyr_menu, game_menu)"
   ]
  },
  {
   "cell_type": "markdown",
   "metadata": {},
   "source": [
    "### Downloading data with changing widget states\n",
    "Now, event handlers such as `options`, `value`, `observe`, and `on_click` will be added to the previous cell in order to accomodate changes in selections (or the lack of changes). The nested games within the players within the teams will no longer act independently. A fetch button will also be added to allow the user to get the id numbers. The `update_team()` and `update_player()` function will update each dropdown menu as the other dropdown menus are changed. The `get_data()` function will then pull the ids from the dictionaries for each click of the button."
   ]
  },
  {
   "cell_type": "code",
   "execution_count": null,
   "metadata": {
    "scrolled": false
   },
   "outputs": [],
   "source": [
    "fetch_button = Button(description='Get Data!', icon='check')\n",
    "display(team_menu, plyr_menu, game_menu, fetch_button)\n",
    "\n",
    "# update players list\n",
    "def update_team(change): \n",
    "    plyr_menu.options = plyr_by_team_dd[change['new']]\n",
    "    plyr_menu.value = list(plyr_by_team_dd[change['new']].values())[0]\n",
    "\n",
    "team_menu.observe(update_team, names='value')\n",
    "\n",
    "# update game list\n",
    "def update_player(change):\n",
    "    if change['new'] != None: # update game from player only when player is changed, ow will do it through above cell\n",
    "        game_menu.options = game_by_player_dd[(change['new'], team_menu.value)]\n",
    "        game_menu.value = list(game_by_player_dd[(change['new'], team_menu.value)].values())[0]\n",
    "\n",
    "plyr_menu.observe(update_player, names='value')\n",
    "\n",
    "# get data action\n",
    "# change is a dictionary holding the information about the change\n",
    "def get_data(change):\n",
    "    print(team_menu.value, plyr_menu.value, game_menu.value) \n",
    "    \n",
    "fetch_button.on_click(get_data)"
   ]
  },
  {
   "cell_type": "markdown",
   "metadata": {},
   "source": [
    "### Data transformation and visualization\n",
    "In the following code, `get_visuals()` will be defined. This function will now be called with the `on_click` handler instead of `get_data()`. To summarize, this function will output two visualizations of the data requested from the dropdown menus. A more in depth description is as follows. First `get_visuals()` will take the ids of the team, player, and date that is selected. Instead of outputting it as before, `get_visuals()` will pass the ids onto `choose_player_game()` which will be passed into `get_nba_data()`. This will be done two seperate times, as each visual requires different information. At this point, data will be retrieved and will be used to create the outputted visualizations. The first visualization will be a bar chart comparing the shots made for each game of the player for the team that is selected (will be grouping by date). The chosen date, as well as its bar, will be highlighted in green. Here, one could examine how the players' shots per game vary as the season goes on. The second visualization will be specific to the date chosen (will be grouping by period). It will plot the percentages of shots made (so it will take into account the shots attempted) at each period (as well as the overtime periods) for the selected game date. Here, one could observe how the player performs as time runs out."
   ]
  },
  {
   "cell_type": "code",
   "execution_count": null,
   "metadata": {
    "scrolled": false
   },
   "outputs": [],
   "source": [
    "%matplotlib inline\n",
    "fetch_button = Button(description='Get Data!', icon='check')\n",
    "display(team_menu, plyr_menu, game_menu, fetch_button)\n",
    "\n",
    "def get_visuals(change):\n",
    "    clear_output()\n",
    "    display(team_menu, plyr_menu, game_menu, fetch_button)\n",
    "    \n",
    "    teamid = str(team_menu.value)\n",
    "    playerid = str(plyr_menu.value)\n",
    "    gameid = str(game_menu.value)\n",
    "    \n",
    "    # getting data set up for plot of total \n",
    "    # shots each game for chosen player\n",
    "    player_shots = h.get_nba_data('shotchartdetail', choose_player_game(teamid, playerid))\n",
    "    player_shots_dd = dict()\n",
    "    for d, s in player_shots.groupby('GAME_DATE'):\n",
    "        player_shots_dd[d] = sum(s.SHOT_MADE_FLAG)\n",
    "    \n",
    "    player_shots_df = pd.DataFrame({\n",
    "                        'game_date': list(player_shots_dd.keys()),\n",
    "                        'shots_made': list(player_shots_dd.values()),\n",
    "                      })\n",
    "    \n",
    "    # getting game date (from value) to color later\n",
    "    gameid_index = list(player_shots['GAME_ID']).index(gameid)\n",
    "    match_date = list(player_shots['GAME_DATE'])[gameid_index]\n",
    "    date_location = list(player_shots_df.game_date).index(match_date)\n",
    "    \n",
    "    # getting prettier dates\n",
    "    temp = player_shots_df.game_date.copy()\n",
    "    for i in range(len(temp)):\n",
    "        read_date = readable_date(temp[i])\n",
    "        temp[i] = read_date\n",
    "    player_shots_df['game_date'] = temp\n",
    "    \n",
    "    # plotting total shots each game for chosen player\n",
    "    figsize(11, 9)\n",
    "    objects = player_shots_df['game_date']\n",
    "    y_pos = np.arange(len(objects))\n",
    "    shots_plot = plt.bar(y_pos, player_shots_df['shots_made'], align = 'center')\n",
    "    plt.xticks(y_pos, objects, rotation=90, fontsize=8);\n",
    "    \n",
    "    plt.xlabel(\"Game Date\")\n",
    "    plt.ylabel(\"Shots Made\")\n",
    "    plt.title(\"Total Shots Made Each Game by \" + str(list(player_shots['PLAYER_NAME'])[0]) \n",
    "              + \" for \" + str(list(player_shots['TEAM_NAME'])[0]))\n",
    "    \n",
    "    # coloring specific date bar and label\n",
    "    shots_plot.get_children()[date_location].set_color('g') \n",
    "    plt.gca().get_xticklabels()[date_location].set_color('g')\n",
    "    \n",
    "    plt.show() # to show both graphs\n",
    "    \n",
    "    # getting data set up for percentage of shots\n",
    "    # made in each period for chosen game    \n",
    "    period_percentage = h.get_nba_data('shotchartdetail', choose_player_game(teamid, playerid, gameid))\n",
    "    period_percentage_dd = dict()\n",
    "    for p, s in period_percentage.groupby('PERIOD'):\n",
    "        period_percentage_dd[p] = sum(s.SHOT_MADE_FLAG) / sum(s.SHOT_ATTEMPTED_FLAG)\n",
    "    \n",
    "    period_percentage_df = pd.DataFrame({\n",
    "                        'period': sorted(list(period_percentage_dd.keys())),\n",
    "                        'percentage_made': list(period_percentage_dd.values()),    \n",
    "                      })\n",
    "    \n",
    "    # plotting percentage of shots made in each period for chosen game\n",
    "    plt.plot((period_percentage_df['period']), period_percentage_df['percentage_made'], '-o')\n",
    "    plt.xlabel(\"Period\")\n",
    "    plt.ylabel(\"Percentage of Shots Made\")\n",
    "    plt.title(\"Percentage of Shots Made Per Period on \" + str(readable_date(match_date)))\n",
    "    \n",
    "    ticks=[1,2,3,4]\n",
    "    ot = [] # for overtime periods\n",
    "    quarters = list(period_percentage.PERIOD.unique()) # quarters where shots were taken\n",
    "    for i in quarters: # getting possible overtime periods\n",
    "        if i > 4:\n",
    "            ot.append(i)\n",
    "    if len(ot) != 0:\n",
    "        ticks += ot\n",
    "    \n",
    "    plt.xticks(ticks)\n",
    "    plt.xlim((0.5,ticks[-1] + 0.5))\n",
    "    plt.ylim((-0.1,1.1))\n",
    "    \n",
    "player_shots = fetch_button.on_click(get_visuals)"
   ]
  }
 ],
 "metadata": {
  "kernelspec": {
   "display_name": "Python 3",
   "language": "python",
   "name": "python3"
  },
  "language_info": {
   "codemirror_mode": {
    "name": "ipython",
    "version": 3
   },
   "file_extension": ".py",
   "mimetype": "text/x-python",
   "name": "python",
   "nbconvert_exporter": "python",
   "pygments_lexer": "ipython3",
   "version": "3.6.5"
  }
 },
 "nbformat": 4,
 "nbformat_minor": 2
}
